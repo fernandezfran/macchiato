{
 "cells": [
  {
   "cell_type": "markdown",
   "id": "5ada8957-bc16-4ae6-b218-d0aee7ca8994",
   "metadata": {},
   "source": [
    "# Tutorial\n",
    "\n",
    "This notebook contains the tutorial to use nearest-neighbors models developed in **macchiato**.\n",
    "\n",
    "We will first install the `macchiato` package and then import all the libraries that will be used along the following analysis."
   ]
  },
  {
   "cell_type": "code",
   "execution_count": 1,
   "id": "d3de7ed0-0267-4be5-8139-923211acf810",
   "metadata": {
    "tags": []
   },
   "outputs": [],
   "source": [
    "%%capture\n",
    "!pip install macchiato"
   ]
  },
  {
   "cell_type": "code",
   "execution_count": 2,
   "id": "18c00f6c-af78-40e3-8b6f-463460f37c3a",
   "metadata": {
    "tags": []
   },
   "outputs": [
    {
     "data": {
      "text/plain": [
       "'0.1.1'"
      ]
     },
     "execution_count": 2,
     "metadata": {},
     "output_type": "execute_result"
    }
   ],
   "source": [
    "import macchiato\n",
    "macchiato.VERSION"
   ]
  },
  {
   "cell_type": "code",
   "execution_count": 3,
   "id": "3ea7acca-1839-4dae-8560-5623e8dd0e48",
   "metadata": {
    "execution": {
     "iopub.execute_input": "2023-12-12T12:01:16.501442Z",
     "iopub.status.busy": "2023-12-12T12:01:16.501225Z",
     "iopub.status.idle": "2023-12-12T12:01:16.503919Z",
     "shell.execute_reply": "2023-12-12T12:01:16.503432Z"
    }
   },
   "outputs": [],
   "source": [
    "import matplotlib.pyplot as plt\n",
    "import MDAnalysis as mda\n",
    "import numpy as np\n",
    "\n",
    "import macchiato"
   ]
  },
  {
   "cell_type": "markdown",
   "id": "1f211586-dca4-4b0b-94a5-bbe5023b9cdc",
   "metadata": {},
   "source": [
    "To perform the analysis we need trajectories of the LiSi system. In this case we will download the data from this [repo](https://github.com/fernandezfran/DFTB_LiSi_amorphous)."
   ]
  },
  {
   "cell_type": "code",
   "execution_count": 4,
   "id": "93babe92-4984-4e10-841e-38aca0a9f153",
   "metadata": {
    "execution": {
     "iopub.execute_input": "2023-12-12T12:01:16.505911Z",
     "iopub.status.busy": "2023-12-12T12:01:16.505751Z",
     "iopub.status.idle": "2023-12-12T12:01:17.990842Z",
     "shell.execute_reply": "2023-12-12T12:01:17.987789Z"
    }
   },
   "outputs": [
    {
     "name": "stdout",
     "output_type": "stream",
     "text": [
      "Cloning into 'DFTB_LiSi_amorphous'...\n",
      "remote: Enumerating objects: 37, done.\u001b[K\n",
      "remote: Counting objects: 100% (37/37), done.\u001b[K\n",
      "remote: Compressing objects: 100% (30/30), done.\u001b[K\n",
      "remote: Total 37 (delta 14), reused 24 (delta 7), pack-reused 0\u001b[K\n",
      "Receiving objects: 100% (37/37), 1.11 MiB | 4.33 MiB/s, done.\n",
      "Resolving deltas: 100% (14/14), done.\n"
     ]
    }
   ],
   "source": [
    "!git clone https://github.com/fernandezfran/DFTB_LiSi_amorphous.git"
   ]
  },
  {
   "cell_type": "code",
   "execution_count": 5,
   "id": "96c4fc07-a87a-488d-b4b1-d151096e3cc7",
   "metadata": {
    "execution": {
     "iopub.execute_input": "2023-12-12T12:01:17.998993Z",
     "iopub.status.busy": "2023-12-12T12:01:17.998807Z",
     "iopub.status.idle": "2023-12-12T12:01:18.129613Z",
     "shell.execute_reply": "2023-12-12T12:01:18.126561Z"
    }
   },
   "outputs": [
    {
     "name": "stdout",
     "output_type": "stream",
     "text": [
      "CITATION.bib  LICENSE  README.md  structures\n"
     ]
    }
   ],
   "source": [
    "!ls DFTB_LiSi_amorphous/"
   ]
  },
  {
   "cell_type": "code",
   "execution_count": 6,
   "id": "d00354d6-cec6-4976-b9b9-2d48b20fc276",
   "metadata": {
    "execution": {
     "iopub.execute_input": "2023-12-12T12:01:18.139090Z",
     "iopub.status.busy": "2023-12-12T12:01:18.138269Z",
     "iopub.status.idle": "2023-12-12T12:01:18.283480Z",
     "shell.execute_reply": "2023-12-12T12:01:18.280405Z"
    }
   },
   "outputs": [
    {
     "name": "stdout",
     "output_type": "stream",
     "text": [
      "Li128Si64.out  Li160Si64.out  Li240Si64.out  Li57Si64.out\n",
      "Li128Si64.xyz  Li160Si64.xyz  Li240Si64.xyz  Li57Si64.xyz\n",
      "Li13Si64.out   Li210Si64.out  Li36Si64.out   Li96Si64.out\n",
      "Li13Si64.xyz   Li210Si64.xyz  Li36Si64.xyz   Li96Si64.xyz\n"
     ]
    }
   ],
   "source": [
    "!ls DFTB_LiSi_amorphous/structures/"
   ]
  },
  {
   "cell_type": "markdown",
   "id": "23688333-f62c-41f6-8385-51c934fb4eab",
   "metadata": {},
   "source": [
    "In this path we have trajectories in xyz format and outputs with thermodynamic information and with the defined box. To read the xyz files we will use [MDAnalysis](https://www.mdanalysis.org/) and for the out files we will only search for the box dimensions with the following function."
   ]
  },
  {
   "cell_type": "code",
   "execution_count": 7,
   "id": "14541a1c-c759-42e9-83c4-4d32f6e590c8",
   "metadata": {
    "execution": {
     "iopub.execute_input": "2023-12-12T12:01:18.293623Z",
     "iopub.status.busy": "2023-12-12T12:01:18.292793Z",
     "iopub.status.idle": "2023-12-12T12:01:18.310690Z",
     "shell.execute_reply": "2023-12-12T12:01:18.308268Z"
    }
   },
   "outputs": [],
   "source": [
    "def get_boxes(md_out):\n",
    "    with open(md_out, \"r\") as f:\n",
    "        lines = f.readlines()\n",
    "    \n",
    "    boxes = []\n",
    "    for i, line in enumerate(lines):\n",
    "        if \"Lattice\" in line:\n",
    "            lattice = [list(map(float, lines[i + j + 1].split())) for j in range(3)]\n",
    "            boxes.append(\n",
    "                np.array([lattice[0][0], lattice[1][1], lattice[2][2], 90, 90, 90])\n",
    "            )\n",
    "            \n",
    "    return np.array(boxes, dtype=object)"
   ]
  },
  {
   "cell_type": "markdown",
   "id": "2c616391-dbe7-42f5-9a60-687b43fb8583",
   "metadata": {},
   "source": [
    "We will also define the path to the files and the numbers of lithium and silicon atoms"
   ]
  },
  {
   "cell_type": "code",
   "execution_count": 8,
   "id": "ae570f53-a255-4a7a-b25f-f9fce78347a6",
   "metadata": {
    "execution": {
     "iopub.execute_input": "2023-12-12T12:01:18.319705Z",
     "iopub.status.busy": "2023-12-12T12:01:18.318962Z",
     "iopub.status.idle": "2023-12-12T12:01:18.330129Z",
     "shell.execute_reply": "2023-12-12T12:01:18.327733Z"
    }
   },
   "outputs": [],
   "source": [
    "path = \"DFTB_LiSi_amorphous/structures/\"\n",
    "nli = [13, 36, 57, 96, 128, 160, 210, 240]\n",
    "nsi = 64\n",
    "xs = np.array(nli) / nsi"
   ]
  },
  {
   "cell_type": "markdown",
   "id": "28b624cb-a3db-41d5-aed9-c0a03b42dbcd",
   "metadata": {},
   "source": [
    "Now we can read each alloy as a Universe of MDAnalysis"
   ]
  },
  {
   "cell_type": "code",
   "execution_count": 9,
   "id": "967a750c-d572-4c2b-a8c5-e507768fb371",
   "metadata": {
    "execution": {
     "iopub.execute_input": "2023-12-12T12:01:18.339213Z",
     "iopub.status.busy": "2023-12-12T12:01:18.338476Z",
     "iopub.status.idle": "2023-12-12T12:01:18.424103Z",
     "shell.execute_reply": "2023-12-12T12:01:18.423563Z"
    }
   },
   "outputs": [],
   "source": [
    "universes = []\n",
    "for n in nli:\n",
    "    alloy = f\"Li{n}Si{nsi}\"\n",
    "    u = mda.Universe(path + alloy + \".xyz\")\n",
    "    \n",
    "    boxes = get_boxes(path + alloy + \".out\")\n",
    "    \n",
    "    for box, ts in zip(boxes, u.trajectory):\n",
    "        u.dimensions = box\n",
    "    \n",
    "    universes.append(u)"
   ]
  },
  {
   "cell_type": "markdown",
   "id": "35fac372-91b4-4003-a094-29078de69242",
   "metadata": {},
   "source": [
    "## Chemical Shift Spectra"
   ]
  },
  {
   "cell_type": "markdown",
   "id": "df9fd931-e31a-469f-8616-55904e25a78c",
   "metadata": {},
   "source": [
    "The following model is inferred from the behavior of the Chemical Shift Spectra in the crystalline alloys, which are used to test the package. The total spectra for each alloy comes from a contribution of each Li atom where its shift depends of the types of the Si nearest-neighbour, a contribution appears at 18 ppm when the Si atom is bonded to another Si atom and this contribution appears at 6 ppm if the Si atom is isolated. For more details, the reader is reffered to [our paper](https://doi.org/10.1103/PhysRevB.108.144201)."
   ]
  },
  {
   "cell_type": "code",
   "execution_count": 10,
   "id": "68776afe-128d-4268-8238-587933bb1b9a",
   "metadata": {
    "execution": {
     "iopub.execute_input": "2023-12-12T12:01:18.426315Z",
     "iopub.status.busy": "2023-12-12T12:01:18.426154Z",
     "iopub.status.idle": "2023-12-12T12:01:19.019662Z",
     "shell.execute_reply": "2023-12-12T12:01:19.019112Z"
    }
   },
   "outputs": [],
   "source": [
    "ppm = np.arange(40, -40, -0.1)\n",
    "intensities = []\n",
    "for x, u in zip(xs, universes):\n",
    "    # center of each Li atom\n",
    "    csc = macchiato.experiments.chemical_shift.ChemicalShiftCenters(u)\n",
    "    csc.fit(ppm)\n",
    "    \n",
    "    # width of the spectra\n",
    "    csw = macchiato.experiments.chemical_shift.ChemicalShiftWidth(csc)\n",
    "    \n",
    "    # we won't fit to experimental data here, we just define the\n",
    "    # attrs related to the width of the peaks\n",
    "    csw._popt = 1.0, 1.0, 1.0\n",
    "    intensity = csw.predict(ppm)\n",
    "\n",
    "    intensities.append(intensity)"
   ]
  },
  {
   "cell_type": "markdown",
   "id": "b8b540e2-379e-403e-a3e0-f97f1a2ba5be",
   "metadata": {},
   "source": [
    "Now we can plot for each alloy the intensity versus the ppm."
   ]
  },
  {
   "cell_type": "code",
   "execution_count": 11,
   "id": "ef69ae7d-d322-4d0a-928a-08d7f52eb149",
   "metadata": {
    "execution": {
     "iopub.execute_input": "2023-12-12T12:01:19.021920Z",
     "iopub.status.busy": "2023-12-12T12:01:19.021758Z",
     "iopub.status.idle": "2023-12-12T12:01:19.999503Z",
     "shell.execute_reply": "2023-12-12T12:01:19.998985Z"
    }
   },
   "outputs": [
    {
     "data": {
      "text/plain": [
       "<matplotlib.legend.Legend at 0x7f5369bfeaa0>"
      ]
     },
     "execution_count": 11,
     "metadata": {},
     "output_type": "execute_result"
    },
    {
     "data": {
      "image/png": "[encoded data removed]",
      "text/plain": [
       "<Figure size 640x480 with 1 Axes>"
      ]
     },
     "metadata": {},
     "output_type": "display_data"
    }
   ],
   "source": [
    "fig, ax = plt.subplots()\n",
    "\n",
    "ax.vlines(18.0, -0.1, 1.1, color=\"k\", linestyles=\"dashed\")\n",
    "ax.text(25, 1.12, \"bonded Si\")\n",
    "ax.vlines(6.0, -0.1, 1.1, color=\"k\", linestyles=\"dashed\")\n",
    "ax.text(8, 1.12, \"isolated Si\")\n",
    "\n",
    "for i, (x, intensity) in enumerate(zip(xs, intensities)):\n",
    "    ax.plot(ppm, intensity + 0.1 * i, label=f\"{x:.2f}\")\n",
    "\n",
    "ax.set_xlabel(r\"$\\delta$ [ppm]\")\n",
    "ax.set_xlim((40, -20))\n",
    "ax.set_ylim((-0.1, 1.1))\n",
    "ax.set_yticks([])\n",
    "ax.legend(title=r\"$x$ in Li$_x$Si\", loc=\"center left\", bbox_to_anchor=(1, 0.5))"
   ]
  },
  {
   "cell_type": "markdown",
   "id": "367412d5-7018-4a42-a4df-88a93091f6ba",
   "metadata": {},
   "source": [
    "We see the shift in the spectra due to the breaking of Si-Si bonds as Li concentration increase, as is observed in experiments. For more details and contrast with experiments, read [our paper](https://doi.org/10.1103/PhysRevB.108.144201)."
   ]
  },
  {
   "cell_type": "markdown",
   "id": "5231be99-8c1b-45b6-9fcb-f5c8a9e8cb2a",
   "metadata": {},
   "source": [
    "## Mössbauer Spectroscopy"
   ]
  },
  {
   "cell_type": "markdown",
   "id": "fe565556-3b82-4eb9-b91d-14e46a00b6a4",
   "metadata": {},
   "source": [
    "Instead of full Mössbauer spectra, we are interested in the splitting that appears for different alloys due to quadrupole interaction."
   ]
  },
  {
   "cell_type": "code",
   "execution_count": 12,
   "id": "4e6acadb-5655-4bd9-9bb6-78042b73d7e2",
   "metadata": {
    "execution": {
     "iopub.execute_input": "2023-12-12T12:01:20.001686Z",
     "iopub.status.busy": "2023-12-12T12:01:20.001517Z",
     "iopub.status.idle": "2023-12-12T12:01:20.473304Z",
     "shell.execute_reply": "2023-12-12T12:01:20.472770Z"
    }
   },
   "outputs": [],
   "source": [
    "means = []\n",
    "for u in universes:\n",
    "    me = macchiato.experiments.mossbauer.MossbauerEffect(u)\n",
    "    means.append(np.mean(me.fit_predict(None)))"
   ]
  },
  {
   "cell_type": "markdown",
   "id": "a2c8c14d-2533-45f3-a3ec-8572e128d1f7",
   "metadata": {},
   "source": [
    "We can plot this splitting inferred from the experiment"
   ]
  },
  {
   "cell_type": "code",
   "execution_count": 13,
   "id": "148e3d97-75e6-485b-9d2d-79d1fd0d59dd",
   "metadata": {
    "execution": {
     "iopub.execute_input": "2023-12-12T12:01:20.475422Z",
     "iopub.status.busy": "2023-12-12T12:01:20.475260Z",
     "iopub.status.idle": "2023-12-12T12:01:20.658293Z",
     "shell.execute_reply": "2023-12-12T12:01:20.657765Z"
    }
   },
   "outputs": [
    {
     "data": {
      "text/plain": [
       "Text(0, 0.5, '$\\\\Delta$ in Mössbauer peaks (mm/s)')"
      ]
     },
     "execution_count": 13,
     "metadata": {},
     "output_type": "execute_result"
    },
    {
     "data": {
      "image/png": "[encoded data removed]",
      "text/plain": [
       "<Figure size 640x480 with 1 Axes>"
      ]
     },
     "metadata": {},
     "output_type": "display_data"
    }
   ],
   "source": [
    "fig, ax = plt.subplots()\n",
    "\n",
    "ax.scatter(xs, means)\n",
    "\n",
    "ax.set_xlim((0, 4))\n",
    "ax.set_ylim((0.2, 1.2))\n",
    "\n",
    "ax.set_xlabel(r\"$x$ in Li$_x$Si\")\n",
    "ax.set_ylabel(r\"$\\Delta$ in Mössbauer peaks (mm/s)\")"
   ]
  },
  {
   "cell_type": "markdown",
   "id": "6164eaa0-223e-4d10-b87f-4471978358c6",
   "metadata": {},
   "source": [
    "This reproduce the experimental behavior and is presented in the paper."
   ]
  },
  {
   "cell_type": "markdown",
   "id": "7d6971be-fc34-4573-84d1-fbef3aa002be",
   "metadata": {},
   "source": [
    "Check the Jupyter Notebook pipeline in the [paper folder](https://github.com/fernandezfran/macchiato/tree/main/paper) which reproduces the results of the published article."
   ]
  }
 ],
 "metadata": {
  "kernelspec": {
   "display_name": "Python 3",
   "language": "python",
   "name": "python3"
  },
  "language_info": {
   "codemirror_mode": {
    "name": "ipython",
    "version": 3
   },
   "file_extension": ".py",
   "mimetype": "text/x-python",
   "name": "python",
   "nbconvert_exporter": "python",
   "pygments_lexer": "ipython3",
   "version": "3.8.10"
  }
 },
 "nbformat": 4,
 "nbformat_minor": 5
}
