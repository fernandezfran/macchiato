{
 "cells": [
  {
   "cell_type": "markdown",
   "id": "729dc709-866f-48d0-82d1-d7f44c34ff29",
   "metadata": {},
   "source": [
    "# Prediction of NMR, X-ray and Mössbauer experimental results for amorphous Li-Si alloys using a novel DFTB model\n",
    "\n",
    "This notebook contains the code needed to reproduce the results of our [arXiv article](https://arxiv.org/abs/2305.11006) where we propose nearest-neighbors models to predict experimental results in Silicon anodes, which hold a great promise for next-generation Li-ion batteries. \n",
    "\n",
    "**Disclaimers**\n",
    "1. This will not follow the same order as the main text since the Supporting Material will be in the position where it is needed and not at the end of the notebook.\n",
    "2. Data is available [here](https://github.com/fernandezfran/unveiled_LiSi_amorphous_structures), but we are going to use more extensive data for better statistics that cannot be uploaded to GitHub due to their size. We will also use NMR, X-ray and Mössbauer experimental data [[1](https://pubs.acs.org/doi/10.1021/ja8086278), [2](https://pubs.acs.org/doi/10.1021/ja108085d), [3](https://journals.aps.org/prl/abstract/10.1103/PhysRevLett.82.3460), [4](https://iopscience.iop.org/article/10.1149/1.3073879/meta)]."
   ]
  },
  {
   "cell_type": "markdown",
   "id": "878e9dbb-1188-482c-99c9-6883e3b0c0de",
   "metadata": {},
   "source": [
    "## Data collection\n",
    "\n",
    "The data was obtained using [the set B of parameters](https://github.com/alexispaz/DFTB_LiSi/tree/main/lisi) for DFTB LiSi in [DFTB+ software](www.dftbplus.org), managed with a [lithiation code](https://github.com/fernandezfran/lithiation) that follows the protocol below:\n",
    "1. Start with an [amorphous structure of silicon](https://pubs.acs.org/doi/full/10.1021/acs.jpca.3c00075).\n",
    "2. Add a Li atom at the center of the largest spherical void (using voronoi vertices),\n",
    "3. increase the volume and scale the coordinates by a factor to obtain the experimental expansion of the system.\n",
    "4. Then, perform a NPT molecular dynamics equilibration for 10ps usign the Berendsen Thermostat and Barostat.\n",
    "5. Repeat 2-4 steps until the desired number of Li atoms is reached.\n",
    "\n",
    "In the module upload_data.py we have different functions to load the necessary data for each experiment."
   ]
  },
  {
   "cell_type": "code",
   "execution_count": 1,
   "id": "04b9a0fe-f298-4214-82b8-2b4b5552318a",
   "metadata": {},
   "outputs": [],
   "source": [
    "import upload_data"
   ]
  },
  {
   "cell_type": "markdown",
   "id": "94e1164e-39e8-4471-b2eb-335f40d7e69a",
   "metadata": {},
   "source": [
    "## Distribution Functions\n",
    "\n",
    "The Radial Distribution Function (RDF) describes the probability of finding an atom in a shell at a distance _r_ from a reference atom."
   ]
  },
  {
   "cell_type": "code",
   "execution_count": 2,
   "id": "b6555479-605f-4fab-8dc5-5e3a098df04f",
   "metadata": {},
   "outputs": [],
   "source": [
    "# code here"
   ]
  },
  {
   "cell_type": "markdown",
   "id": "cc2046f4-8a48-4c5c-a9c0-39299923fe6e",
   "metadata": {},
   "source": [
    "The nature of the obtained distributions is typical for amorphous structures, having a definite first peak at short _r_ and decreasing following ones for increasing _r_. The decrease of the first peak and the shift of the one indicates that Si-Si bonds are being broken and isolated Si atoms appears."
   ]
  },
  {
   "cell_type": "markdown",
   "id": "ec1e65d8-a71e-4ea5-986b-4bae7139c066",
   "metadata": {},
   "source": [
    "These RDFs can be used to compute the Pair Distribution Funcition, _G(r)_"
   ]
  },
  {
   "cell_type": "code",
   "execution_count": 3,
   "id": "de778475-4a9c-49ba-94f2-6bb46b098077",
   "metadata": {},
   "outputs": [],
   "source": [
    "# code here"
   ]
  },
  {
   "cell_type": "markdown",
   "id": "53987cd1-6c3d-4570-9250-b0c0cd11c256",
   "metadata": {},
   "source": [
    "and compare with experiments"
   ]
  },
  {
   "cell_type": "code",
   "execution_count": 4,
   "id": "01f5257c-bc49-4fc0-8b7d-c634e724c6d2",
   "metadata": {},
   "outputs": [],
   "source": [
    "# code here"
   ]
  },
  {
   "cell_type": "markdown",
   "id": "d4c5306e-9323-4a3f-af76-b668c37e9c66",
   "metadata": {},
   "source": [
    "## $^7$Li NMR chemical spectra\n",
    "\n",
    "This Nuclear Magnetic Resonce (NMR) signal is characterized by a Voigt peak (V), which corresponds to the combination of a Lorentzian that is intrinsic to the NMR phenomena and a Gaussian due to the detector. Each Li atom introduce a shift on this signal that depends on the electromagnetic shielding caused by the local structure. We propose a nearest-neighbor model to emulate and interpret the features\n",
    "in the NMR spectra, where a peak is obtained within the centers of each Li atom\n",
    "$$\n",
    "\\delta_{\\text{Li}} = \\frac{1}{N_{\\text{Si}}} \\sum_{\\text{Si} \\in \\textit{NN}} \\delta_{\\text{Key}},\n",
    "$$\n",
    "where the sum is over the Si nearest-neighbors (NN) and $\\delta_{\\text{Key}}$ can be 18 ppm if the Si neighbor is bonded and 6 ppm if it is isolated. Then the total spectra has an intensity\n",
    "$$\n",
    "I = \\sum_{\\text{Li} \\in \\text{Si}} V(\\text{ppm}, \\delta_{\\text{Li}}, \\sigma, \\gamma),\n",
    "$$\n",
    "where $\\sigma$ and $\\gamma$ are the standard deviations and the half-width at half-maximum of gaussian and lorentzian components, respectively."
   ]
  },
  {
   "cell_type": "markdown",
   "id": "18de9a05-864e-4d3c-949d-424521ac3a67",
   "metadata": {},
   "source": [
    "### Crystalline spectra\n",
    "\n",
    "These atomic structures where obtained from [Materials Project](https://materialsproject.org/)."
   ]
  },
  {
   "cell_type": "code",
   "execution_count": 5,
   "id": "4854f985-fe25-43be-ad29-477a68c36140",
   "metadata": {},
   "outputs": [],
   "source": [
    "# code here"
   ]
  },
  {
   "cell_type": "markdown",
   "id": "f05d3f1d-c2a6-4d28-ac89-b794abe527e1",
   "metadata": {},
   "source": [
    "### Amorphous spectra\n",
    "\n",
    "To facilitate the comparison with our model we includ a peak at -0.3 ppm, which represents the SEI contribution."
   ]
  },
  {
   "cell_type": "code",
   "execution_count": 6,
   "id": "c4274ab5-77fa-4451-98a9-633586d16665",
   "metadata": {},
   "outputs": [],
   "source": [
    "# code here"
   ]
  },
  {
   "cell_type": "markdown",
   "id": "79050fe2-c51b-44f2-b88c-32a26a8a3e11",
   "metadata": {},
   "source": [
    "Discrepancies between model predictions and experiments stem from inhomogeneous lithiation that is not present in the simulated amorphous structures."
   ]
  },
  {
   "cell_type": "markdown",
   "id": "43bf6cd2-7aab-4790-b6be-6e9ace3ec7bd",
   "metadata": {},
   "source": [
    "## Mössbauer spectra\n",
    "\n",
    "This signal consist of two peaks that almost completely overlap at the extremes cases but are separeted for the intermediate cases. We reproduce the separation distance, $\\Delta$, by tuning $a$ and $b$ parameters in\n",
    "$$\n",
    "\\Delta = a \\min\\left\\lbrace C_{\\text{Li}}, C_{\\text{Si}}\\right\\rbrace + b,\n",
    "$$\n",
    "where $C_{\\text{Li}}$ and $C_{\\text{Si}}$ are the concentration of Li and Si atoms."
   ]
  },
  {
   "cell_type": "code",
   "execution_count": 7,
   "id": "8d2139ba-c36a-463d-843d-e179bc447d39",
   "metadata": {},
   "outputs": [],
   "source": [
    "# code here"
   ]
  },
  {
   "cell_type": "markdown",
   "id": "72f11c0f-ee20-494e-859d-d7e06d02d5b7",
   "metadata": {},
   "source": [
    "An improvement is observed when considering the nearest-neighbors concentrations of the amorphous structures with respect to the overall concentrations."
   ]
  }
 ],
 "metadata": {
  "kernelspec": {
   "display_name": "Python 3 (ipykernel)",
   "language": "python",
   "name": "python3"
  },
  "language_info": {
   "codemirror_mode": {
    "name": "ipython",
    "version": 3
   },
   "file_extension": ".py",
   "mimetype": "text/x-python",
   "name": "python",
   "nbconvert_exporter": "python",
   "pygments_lexer": "ipython3",
   "version": "3.9.2"
  }
 },
 "nbformat": 4,
 "nbformat_minor": 5
}
